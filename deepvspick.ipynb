{
 "cells": [
  {
   "cell_type": "code",
   "execution_count": 1,
   "metadata": {},
   "outputs": [],
   "source": [
    "import pandas as pd \n",
    "import matplotlib.pyplot as mp\n",
    "import numpy\n",
    "import tkinter as tk \n",
    "from tkinter import filedialog, Text\n",
    "import os\n",
    "import math"
   ]
  },
  {
   "cell_type": "code",
   "execution_count": 2,
   "metadata": {},
   "outputs": [
    {
     "data": {
      "text/plain": [
       "<AxesSubplot:title={'center':'Gemiddelde deep learning score per pickpoint'}, ylabel='Pickpoint'>"
      ]
     },
     "execution_count": 2,
     "metadata": {},
     "output_type": "execute_result"
    },
    {
     "data": {
      "image/png": "[encoded data removed]",
      "text/plain": [
       "<Figure size 1440x864 with 1 Axes>"
      ]
     },
     "metadata": {
      "needs_background": "light"
     },
     "output_type": "display_data"
    }
   ],
   "source": [
    "#This program plots a graph with the average deep learning score per pickpoint \n",
    "#Author: Arie Hoekstra\n",
    "\n",
    "#Directory we want to search\n",
    "directory = \"Excel Resultaten\"\n",
    "#List to store all the files with path\n",
    "excel = []\n",
    "y = 0\n",
    "\n",
    "#Loop over all the files in the directory    \n",
    "for file in os.listdir(directory):\n",
    "    #decode\n",
    "     filename = os.fsdecode(file)\n",
    "     if filename.endswith(\".xlsx\"):\n",
    "         #store path to file in temp variable\n",
    "         temp = os.path.join(directory, filename) \n",
    "         #insert into the excel\n",
    "         excel.insert(y, temp)\n",
    "         y = y + 1\n",
    "         continue\n",
    "     else:\n",
    "         continue\n",
    "\n",
    "i = 0\n",
    "j = 0\n",
    "\n",
    "#arrays to store all values\n",
    "dl_scores = []\n",
    "pick = []\n",
    "\n",
    "#Loop over all the excel sheets\n",
    "for sheet in excel:\n",
    "    #Select the D (deep learning) and I column (pickpoints)\n",
    "    df = pd.read_excel(sheet, usecols=\"D\")\n",
    "    df1 = pd.read_excel(sheet, usecols=\"I\")\n",
    "    #Loop over all the values of the d column\n",
    "    for x in range(25):\n",
    "        #insert each value in list\n",
    "        dl_scores.insert(i, df.iat[x,0])\n",
    "        i = i + 1\n",
    "    #Loop over all the values of the I column\n",
    "    for x in range(25):\n",
    "        #insert each value in list\n",
    "        pick.insert(j, df1.iat[x,0])\n",
    "        j = j + 1\n",
    "\n",
    "#Variables to store all the dl scores\n",
    "on_counter = 0\n",
    "on_value = 0\n",
    "\n",
    "op_counter = 0\n",
    "op_value = 0\n",
    "\n",
    "per_counter = 0\n",
    "per_value = 0\n",
    "\n",
    "z = 0\n",
    "#For each pickpoint in the pick list\n",
    "for loc in pick:\n",
    "    #Check which pickpoint we encounter\n",
    "    if loc == \"onacceptabel\":\n",
    "        #Add counter\n",
    "        \n",
    "        #Check if we encounter a NaN(Not a number)\n",
    "        if math.isnan(dl_scores[z]):\n",
    "            on_value = on_value + 0\n",
    "            on_counter = on_counter + 0\n",
    "        else:\n",
    "            #Else add all the dl scores\n",
    "            on_value = on_value + dl_scores[z]\n",
    "            on_counter = on_counter + 1\n",
    "    elif loc == \"oppakbaar\":\n",
    "        op_counter = op_counter + 1\n",
    "        #Check if we have a float\n",
    "        if isinstance(dl_scores[z], float):\n",
    "            op_value = op_value + dl_scores[z]\n",
    "        else:\n",
    "            op_value = op_value + 0\n",
    "    else:\n",
    "        per_counter = per_counter + 1\n",
    "        if isinstance(dl_scores[z], float):\n",
    "            per_value = per_value + dl_scores[z]\n",
    "        else:\n",
    "            per_value = per_value + 0\n",
    "\n",
    "    z = z + 1\n",
    "\n",
    "\n",
    "#Calculate the average dl score per pickpoint\n",
    "dl_on = on_value/on_counter\n",
    "dl_op = op_value/op_counter\n",
    "dl_per = per_value/per_counter\n",
    "\n",
    "#Store in dl list\n",
    "dl = [dl_on, dl_op, dl_per]\n",
    "#Create dataframe\n",
    "df = pd.DataFrame()\n",
    "#Add two columns with the names and the corresponding values\n",
    "df['Deep Learning score'] = dl\n",
    "df['Pick'] = [\"Onacceptabel\", \"Oppakbaar\", \"Perfect\"]\n",
    "#Export dataframe to excel \n",
    "df.to_excel('totalscore.xlsx', index=False)\n",
    "\n",
    "#Get data from the excel\n",
    "df = pd.read_excel('totalscore.xlsx')\n",
    "#Plot the graph\n",
    "df.plot(x='Pick', kind=\"barh\", figsize=(20,12), xlabel=\"Pickpoint\", ylabel = \"Values\", title=\"Gemiddelde deep learning score per pickpoint\", grid=True)"
   ]
  }
 ],
 "metadata": {
  "interpreter": {
   "hash": "5508d7bacb2212b33d68a4ada149bd50a92b8b5ff2e4856f5b401d946aa155e4"
  },
  "kernelspec": {
   "display_name": "Python 3.8.6 64-bit",
   "language": "python",
   "name": "python3"
  },
  "language_info": {
   "codemirror_mode": {
    "name": "ipython",
    "version": 3
   },
   "file_extension": ".py",
   "mimetype": "text/x-python",
   "name": "python",
   "nbconvert_exporter": "python",
   "pygments_lexer": "ipython3",
   "version": "3.8.6"
  },
  "orig_nbformat": 4
 },
 "nbformat": 4,
 "nbformat_minor": 2
}
